{
 "cells": [
  {
   "cell_type": "code",
   "execution_count": 2,
   "metadata": {
    "_cell_guid": "b1076dfc-b9ad-4769-8c92-a6c4dae69d19",
    "_uuid": "8f2839f25d086af736a60e9eeb907d3b93b6e0e5",
    "execution": {
     "iopub.execute_input": "2022-12-11T18:54:05.382806Z",
     "iopub.status.busy": "2022-12-11T18:54:05.381870Z",
     "iopub.status.idle": "2022-12-11T18:54:05.390638Z",
     "shell.execute_reply": "2022-12-11T18:54:05.389682Z",
     "shell.execute_reply.started": "2022-12-11T18:54:05.382761Z"
    }
   },
   "outputs": [],
   "source": [
    "import pandas as pd\n",
    "import numpy as np\n",
    "import matplotlib.pyplot as plt\n",
    "\n",
    "from collections import defaultdict\n",
    "import copy\n",
    "import random\n",
    "import os\n",
    "import shutil\n",
    "from urllib.request import urlretrieve\n",
    "\n",
    "import albumentations as A\n",
    "from albumentations.pytorch import ToTensorV2\n",
    "import cv2\n",
    "import matplotlib.pyplot as plt\n",
    "from tqdm import tqdm\n",
    "import torch\n",
    "import torch.backends.cudnn as cudnn\n",
    "import torch.nn as nn\n",
    "import torch.optim\n",
    "from torch.utils.data import Dataset, DataLoader\n",
    "from torch.optim import lr_scheduler\n",
    "import torchvision.models as models\n",
    "from torchvision.transforms import ToTensor\n",
    "import torch.nn.functional as F\n",
    "\n",
    "cudnn.benchmark = True"
   ]
  },
  {
   "cell_type": "code",
   "execution_count": 3,
   "metadata": {
    "execution": {
     "iopub.execute_input": "2022-12-11T18:54:05.393366Z",
     "iopub.status.busy": "2022-12-11T18:54:05.392682Z",
     "iopub.status.idle": "2022-12-11T18:54:05.401312Z",
     "shell.execute_reply": "2022-12-11T18:54:05.400381Z",
     "shell.execute_reply.started": "2022-12-11T18:54:05.393329Z"
    }
   },
   "outputs": [],
   "source": [
    "TRAIN_DIR = '/kaggle/input/mtcnn-raf-db-masked/mtcnn_preprocess_masked/train'\n",
    "TEST_DIR = '/kaggle/input/mtcnn-raf-db-masked/mtcnn_preprocess_masked/test'\n",
    "VAL_DIR = '/kaggle/input/mtcnn-raf-db-masked/mtcnn_preprocess_masked/val'"
   ]
  },
  {
   "cell_type": "code",
   "execution_count": 4,
   "metadata": {
    "execution": {
     "iopub.execute_input": "2022-12-11T18:54:05.404348Z",
     "iopub.status.busy": "2022-12-11T18:54:05.404080Z",
     "iopub.status.idle": "2022-12-11T18:54:05.448069Z",
     "shell.execute_reply": "2022-12-11T18:54:05.447237Z",
     "shell.execute_reply.started": "2022-12-11T18:54:05.404324Z"
    }
   },
   "outputs": [],
   "source": [
    "train = pd.read_csv(\n",
    "    '/kaggle/input/mtcnn-raf-db-masked/mtcnn_preprocess_masked/train.csv',\n",
    "    sep=' ',\n",
    ")\n",
    "test = pd.read_csv(\n",
    "    '/kaggle/input/mtcnn-raf-db-masked/mtcnn_preprocess_masked/test.csv',\n",
    "    sep=' ',\n",
    ")\n",
    "val = pd.read_csv(\n",
    "    '/kaggle/input/mtcnn-raf-db-masked/mtcnn_preprocess_masked/val.csv',\n",
    "    sep=' ',\n",
    ")"
   ]
  },
  {
   "cell_type": "code",
   "execution_count": 5,
   "metadata": {
    "execution": {
     "iopub.execute_input": "2022-12-11T18:54:05.452910Z",
     "iopub.status.busy": "2022-12-11T18:54:05.451455Z",
     "iopub.status.idle": "2022-12-11T18:54:05.456898Z",
     "shell.execute_reply": "2022-12-11T18:54:05.455963Z",
     "shell.execute_reply.started": "2022-12-11T18:54:05.452873Z"
    }
   },
   "outputs": [],
   "source": [
    "# train['label'] = train[['label']].apply(lambda x: x - 1)\n",
    "# test['label'] = test[['label']].apply(lambda x: x - 1)\n",
    "# val['label'] = val[['label']].apply(lambda x: x - 1)"
   ]
  },
  {
   "cell_type": "code",
   "execution_count": 6,
   "metadata": {
    "execution": {
     "iopub.execute_input": "2022-12-11T18:54:05.458915Z",
     "iopub.status.busy": "2022-12-11T18:54:05.458405Z",
     "iopub.status.idle": "2022-12-11T18:54:05.482509Z",
     "shell.execute_reply": "2022-12-11T18:54:05.481676Z",
     "shell.execute_reply.started": "2022-12-11T18:54:05.458879Z"
    }
   },
   "outputs": [
    {
     "data": {
      "text/html": [
       "<div>\n",
       "<style scoped>\n",
       "    .dataframe tbody tr th:only-of-type {\n",
       "        vertical-align: middle;\n",
       "    }\n",
       "\n",
       "    .dataframe tbody tr th {\n",
       "        vertical-align: top;\n",
       "    }\n",
       "\n",
       "    .dataframe thead th {\n",
       "        text-align: right;\n",
       "    }\n",
       "</style>\n",
       "<table border=\"1\" class=\"dataframe\">\n",
       "  <thead>\n",
       "    <tr style=\"text-align: right;\">\n",
       "      <th></th>\n",
       "      <th>name</th>\n",
       "      <th>label</th>\n",
       "    </tr>\n",
       "  </thead>\n",
       "  <tbody>\n",
       "    <tr>\n",
       "      <th>0</th>\n",
       "      <td>train_00001.jpg</td>\n",
       "      <td>4</td>\n",
       "    </tr>\n",
       "    <tr>\n",
       "      <th>1</th>\n",
       "      <td>train_00002.jpg</td>\n",
       "      <td>4</td>\n",
       "    </tr>\n",
       "    <tr>\n",
       "      <th>2</th>\n",
       "      <td>train_00003.jpg</td>\n",
       "      <td>3</td>\n",
       "    </tr>\n",
       "    <tr>\n",
       "      <th>3</th>\n",
       "      <td>train_00004.jpg</td>\n",
       "      <td>3</td>\n",
       "    </tr>\n",
       "    <tr>\n",
       "      <th>4</th>\n",
       "      <td>train_00005.jpg</td>\n",
       "      <td>4</td>\n",
       "    </tr>\n",
       "    <tr>\n",
       "      <th>...</th>\n",
       "      <td>...</td>\n",
       "      <td>...</td>\n",
       "    </tr>\n",
       "    <tr>\n",
       "      <th>10202</th>\n",
       "      <td>train_12266.jpg</td>\n",
       "      <td>6</td>\n",
       "    </tr>\n",
       "    <tr>\n",
       "      <th>10203</th>\n",
       "      <td>train_12267.jpg</td>\n",
       "      <td>6</td>\n",
       "    </tr>\n",
       "    <tr>\n",
       "      <th>10204</th>\n",
       "      <td>train_12268.jpg</td>\n",
       "      <td>6</td>\n",
       "    </tr>\n",
       "    <tr>\n",
       "      <th>10205</th>\n",
       "      <td>train_12269.jpg</td>\n",
       "      <td>6</td>\n",
       "    </tr>\n",
       "    <tr>\n",
       "      <th>10206</th>\n",
       "      <td>train_12271.jpg</td>\n",
       "      <td>6</td>\n",
       "    </tr>\n",
       "  </tbody>\n",
       "</table>\n",
       "<p>10207 rows × 2 columns</p>\n",
       "</div>"
      ],
      "text/plain": [
       "                  name  label\n",
       "0      train_00001.jpg      4\n",
       "1      train_00002.jpg      4\n",
       "2      train_00003.jpg      3\n",
       "3      train_00004.jpg      3\n",
       "4      train_00005.jpg      4\n",
       "...                ...    ...\n",
       "10202  train_12266.jpg      6\n",
       "10203  train_12267.jpg      6\n",
       "10204  train_12268.jpg      6\n",
       "10205  train_12269.jpg      6\n",
       "10206  train_12271.jpg      6\n",
       "\n",
       "[10207 rows x 2 columns]"
      ]
     },
     "execution_count": 6,
     "metadata": {},
     "output_type": "execute_result"
    }
   ],
   "source": [
    "train"
   ]
  },
  {
   "cell_type": "markdown",
   "metadata": {},
   "source": [
    "## Dataloaders"
   ]
  },
  {
   "cell_type": "code",
   "execution_count": 7,
   "metadata": {
    "execution": {
     "iopub.execute_input": "2022-12-11T18:54:05.485123Z",
     "iopub.status.busy": "2022-12-11T18:54:05.484487Z",
     "iopub.status.idle": "2022-12-11T18:54:05.494930Z",
     "shell.execute_reply": "2022-12-11T18:54:05.494006Z",
     "shell.execute_reply.started": "2022-12-11T18:54:05.485088Z"
    }
   },
   "outputs": [],
   "source": [
    "class ImageData(Dataset):\n",
    "    def __init__(self, df, data_dir, transform=None):\n",
    "        super().__init__()\n",
    "        self.df = df\n",
    "        self.data_dir = data_dir\n",
    "        self.transform = transform\n",
    "\n",
    "    def __len__(self):\n",
    "        return len(self.df)\n",
    "    \n",
    "    def __getitem__(self, index):\n",
    "        img_name = f'{self.data_dir}/{self.df.iloc[index][\"name\"]}'\n",
    "        label = self.df.iloc[index][\"label\"]\n",
    "        \n",
    "        image = cv2.imread(img_name)\n",
    "        image = cv2.cvtColor(image, cv2.COLOR_BGR2RGB)\n",
    "        \n",
    "        if self.transform is not None:\n",
    "            image = self.transform(image=image)[\"image\"]\n",
    "        \n",
    "        return image, label\n",
    "\n",
    "class ImageDataInference(Dataset):\n",
    "    def __init__(self, df, data_dir, transform=None):\n",
    "        super().__init__()\n",
    "        self.df = df\n",
    "        self.data_dir = data_dir\n",
    "        self.transform = transform\n",
    "\n",
    "    def __len__(self):\n",
    "        return len(self.df)\n",
    "    \n",
    "    def __getitem__(self, index):\n",
    "        img_name = f'{self.data_dir}/{self.df.iloc[index][\"name\"]}'\n",
    "        \n",
    "        image = cv2.imread(img_name)\n",
    "        image = cv2.cvtColor(image, cv2.COLOR_BGR2RGB)\n",
    "        \n",
    "        if self.transform is not None:\n",
    "            image = self.transform(image=image)[\"image\"]\n",
    "        \n",
    "        return image"
   ]
  },
  {
   "cell_type": "code",
   "execution_count": 8,
   "metadata": {
    "execution": {
     "iopub.execute_input": "2022-12-11T18:54:05.496235Z",
     "iopub.status.busy": "2022-12-11T18:54:05.495993Z",
     "iopub.status.idle": "2022-12-11T18:54:05.505822Z",
     "shell.execute_reply": "2022-12-11T18:54:05.505022Z",
     "shell.execute_reply.started": "2022-12-11T18:54:05.496212Z"
    }
   },
   "outputs": [],
   "source": [
    "class DeviceDataLoader():\n",
    "    \"\"\"Wrap a dataloader to move data to a device\"\"\"\n",
    "    def __init__(self, dl, device):\n",
    "        self.dl = dl\n",
    "        self.device = device\n",
    "        \n",
    "    def __iter__(self):\n",
    "        \"\"\"Yield a batch of data after moving it to device\"\"\"\n",
    "        for b in self.dl: \n",
    "            yield to_device(b, self.device)\n",
    "\n",
    "    def __len__(self):\n",
    "        \"\"\"Number of batches\"\"\"\n",
    "        return len(self.dl)"
   ]
  },
  {
   "cell_type": "code",
   "execution_count": null,
   "metadata": {},
   "outputs": [],
   "source": []
  },
  {
   "cell_type": "markdown",
   "metadata": {},
   "source": [
    "## Augmentation"
   ]
  },
  {
   "cell_type": "code",
   "execution_count": 9,
   "metadata": {
    "execution": {
     "iopub.execute_input": "2022-12-11T18:54:05.517276Z",
     "iopub.status.busy": "2022-12-11T18:54:05.517024Z",
     "iopub.status.idle": "2022-12-11T18:54:05.528810Z",
     "shell.execute_reply": "2022-12-11T18:54:05.527547Z",
     "shell.execute_reply.started": "2022-12-11T18:54:05.517252Z"
    }
   },
   "outputs": [],
   "source": [
    "train_transform = A.Compose(\n",
    "    [\n",
    "        A.SmallestMaxSize(max_size=388),\n",
    "#         A.ShiftScaleRotate(shift_limit=0.05, scale_limit=0.05, rotate_limit=15, p=0.5),\n",
    "        A.RandomCrop(height=384, width=384),\n",
    "        A.Rotate(limit=25),\n",
    "        A.RGBShift(r_shift_limit=15, g_shift_limit=15, b_shift_limit=15, p=0.5),\n",
    "        A.RandomBrightnessContrast(p=0.5),\n",
    "        A.Normalize(mean=(0.485, 0.456, 0.406), std=(0.229, 0.224, 0.225)),\n",
    "        ToTensorV2(),\n",
    "    ]\n",
    ")\n",
    "\n",
    "val_transform = A.Compose(\n",
    "    [\n",
    "        A.SmallestMaxSize(max_size=388),\n",
    "        A.CenterCrop(height=384, width=384),\n",
    "        A.Normalize(mean=(0.485, 0.456, 0.406), std=(0.229, 0.224, 0.225)),\n",
    "        ToTensorV2(),\n",
    "    ]\n",
    ")\n",
    "\n",
    "test_transform = A.Compose(\n",
    "    [\n",
    "        A.SmallestMaxSize(max_size=388),\n",
    "        A.CenterCrop(height=384, width=384),\n",
    "        A.Normalize(mean=(0.485, 0.456, 0.406), std=(0.229, 0.224, 0.225)),\n",
    "        ToTensorV2(),\n",
    "    ]\n",
    ")"
   ]
  },
  {
   "cell_type": "code",
   "execution_count": 10,
   "metadata": {
    "execution": {
     "iopub.execute_input": "2022-12-11T18:54:05.531810Z",
     "iopub.status.busy": "2022-12-11T18:54:05.531015Z",
     "iopub.status.idle": "2022-12-11T18:54:05.539115Z",
     "shell.execute_reply": "2022-12-11T18:54:05.538091Z",
     "shell.execute_reply.started": "2022-12-11T18:54:05.531776Z"
    }
   },
   "outputs": [],
   "source": [
    "dataset = ImageData(train, TRAIN_DIR, train_transform)"
   ]
  },
  {
   "cell_type": "code",
   "execution_count": 11,
   "metadata": {
    "execution": {
     "iopub.execute_input": "2022-12-11T18:54:05.541463Z",
     "iopub.status.busy": "2022-12-11T18:54:05.540743Z",
     "iopub.status.idle": "2022-12-11T18:54:05.866473Z",
     "shell.execute_reply": "2022-12-11T18:54:05.865332Z",
     "shell.execute_reply.started": "2022-12-11T18:54:05.541427Z"
    }
   },
   "outputs": [
    {
     "data": {
      "text/plain": [
       "<matplotlib.image.AxesImage at 0x7fce7eb5f0d0>"
      ]
     },
     "execution_count": 11,
     "metadata": {},
     "output_type": "execute_result"
    },
    {
     "data": {
      "image/png": "[encoded data removed]",
      "text/plain": [
       "<Figure size 432x288 with 1 Axes>"
      ]
     },
     "metadata": {
      "needs_background": "light"
     },
     "output_type": "display_data"
    }
   ],
   "source": [
    "plt.imshow(dataset[0][0].permute(1, 2, 0))"
   ]
  },
  {
   "cell_type": "code",
   "execution_count": null,
   "metadata": {},
   "outputs": [],
   "source": []
  },
  {
   "cell_type": "markdown",
   "metadata": {},
   "source": [
    "## Heplers"
   ]
  },
  {
   "cell_type": "code",
   "execution_count": 12,
   "metadata": {
    "execution": {
     "iopub.execute_input": "2022-12-11T18:54:05.869473Z",
     "iopub.status.busy": "2022-12-11T18:54:05.869125Z",
     "iopub.status.idle": "2022-12-11T18:54:05.875579Z",
     "shell.execute_reply": "2022-12-11T18:54:05.874466Z",
     "shell.execute_reply.started": "2022-12-11T18:54:05.869437Z"
    }
   },
   "outputs": [],
   "source": [
    "def accuracy(outputs, labels):\n",
    "    _, preds = torch.max(outputs, dim=1)\n",
    "    return torch.tensor(torch.sum(preds == labels).item() / len(preds))"
   ]
  },
  {
   "cell_type": "code",
   "execution_count": 13,
   "metadata": {
    "execution": {
     "iopub.execute_input": "2022-12-11T18:54:05.877458Z",
     "iopub.status.busy": "2022-12-11T18:54:05.877115Z",
     "iopub.status.idle": "2022-12-11T18:54:05.885385Z",
     "shell.execute_reply": "2022-12-11T18:54:05.884338Z",
     "shell.execute_reply.started": "2022-12-11T18:54:05.877424Z"
    }
   },
   "outputs": [],
   "source": [
    "def get_default_device():\n",
    "    \"\"\"Pick GPU if available, else CPU\"\"\"\n",
    "    if torch.cuda.is_available():\n",
    "        return torch.device('cuda')\n",
    "    else:\n",
    "        return torch.device('cpu')\n",
    "    \n",
    "    \n",
    "def to_device(data, device):\n",
    "    \"\"\"Move tensor(s) to chosen device\"\"\"\n",
    "    if isinstance(data, (list,tuple)):\n",
    "        return [to_device(x, device) for x in data]\n",
    "    return data.to(device, non_blocking=True)"
   ]
  },
  {
   "cell_type": "code",
   "execution_count": 14,
   "metadata": {
    "execution": {
     "iopub.execute_input": "2022-12-11T18:54:05.887220Z",
     "iopub.status.busy": "2022-12-11T18:54:05.886876Z",
     "iopub.status.idle": "2022-12-11T18:54:05.897338Z",
     "shell.execute_reply": "2022-12-11T18:54:05.896670Z",
     "shell.execute_reply.started": "2022-12-11T18:54:05.887187Z"
    }
   },
   "outputs": [],
   "source": [
    "class ImageClassificationBase(nn.Module):\n",
    "    def training_step(self, batch):\n",
    "        images, labels = batch \n",
    "        out = self(images)                  # Generate predictions\n",
    "        loss = F.cross_entropy(out, labels) # Calculate loss\n",
    "        return loss\n",
    "    \n",
    "    def validation_step(self, batch):\n",
    "        images, labels = batch \n",
    "        out = self(images)                    # Generate predictions\n",
    "        loss = F.cross_entropy(out, labels)   # Calculate loss\n",
    "        acc = accuracy(out, labels)           # Calculate accuracy\n",
    "        return {'val_loss': loss.detach(), 'val_acc': acc}\n",
    "        \n",
    "    def validation_epoch_end(self, outputs):\n",
    "        batch_losses = [x['val_loss'] for x in outputs]\n",
    "        epoch_loss = torch.stack(batch_losses).mean()   # Combine losses\n",
    "        batch_accs = [x['val_acc'] for x in outputs]\n",
    "        epoch_acc = torch.stack(batch_accs).mean()      # Combine accuracies\n",
    "        return {'val_loss': epoch_loss.item(), 'val_acc': epoch_acc.item()}\n",
    "    \n",
    "    def epoch_end(self, epoch, result):\n",
    "        print(\"Epoch [{}], train_loss: {:.4f}, val_loss: {:.4f}, val_acc: {:.4f}\".format(\n",
    "            epoch, result['train_loss'], result['val_loss'], result['val_acc']))"
   ]
  },
  {
   "cell_type": "code",
   "execution_count": 15,
   "metadata": {
    "execution": {
     "iopub.execute_input": "2022-12-11T18:54:05.899251Z",
     "iopub.status.busy": "2022-12-11T18:54:05.898529Z",
     "iopub.status.idle": "2022-12-11T18:54:05.909397Z",
     "shell.execute_reply": "2022-12-11T18:54:05.908765Z",
     "shell.execute_reply.started": "2022-12-11T18:54:05.899215Z"
    }
   },
   "outputs": [],
   "source": [
    "class MyEfficientNet(ImageClassificationBase):\n",
    "    def __init__(self, model):\n",
    "        super().__init__()\n",
    "        self.network = model\n",
    "        \n",
    "    def forward(self, xb):\n",
    "        return self.network(xb)"
   ]
  },
  {
   "cell_type": "code",
   "execution_count": null,
   "metadata": {},
   "outputs": [],
   "source": []
  },
  {
   "cell_type": "markdown",
   "metadata": {},
   "source": [
    "## Load data"
   ]
  },
  {
   "cell_type": "code",
   "execution_count": 16,
   "metadata": {
    "execution": {
     "iopub.execute_input": "2022-12-11T18:54:05.911180Z",
     "iopub.status.busy": "2022-12-11T18:54:05.910625Z",
     "iopub.status.idle": "2022-12-11T18:54:05.975428Z",
     "shell.execute_reply": "2022-12-11T18:54:05.974433Z",
     "shell.execute_reply.started": "2022-12-11T18:54:05.911146Z"
    }
   },
   "outputs": [],
   "source": [
    "DEVICE = get_default_device()"
   ]
  },
  {
   "cell_type": "code",
   "execution_count": 17,
   "metadata": {
    "execution": {
     "iopub.execute_input": "2022-12-11T18:54:05.979155Z",
     "iopub.status.busy": "2022-12-11T18:54:05.976716Z",
     "iopub.status.idle": "2022-12-11T18:54:05.985672Z",
     "shell.execute_reply": "2022-12-11T18:54:05.984757Z",
     "shell.execute_reply.started": "2022-12-11T18:54:05.979121Z"
    }
   },
   "outputs": [],
   "source": [
    "train_dataset = ImageData(train, TRAIN_DIR, train_transform)\n",
    "val_dataset = ImageData(val, VAL_DIR, val_transform)\n",
    "test_dataset = ImageDataInference(test, TEST_DIR, test_transform)"
   ]
  },
  {
   "cell_type": "code",
   "execution_count": 18,
   "metadata": {
    "execution": {
     "iopub.execute_input": "2022-12-11T18:54:05.990168Z",
     "iopub.status.busy": "2022-12-11T18:54:05.989734Z",
     "iopub.status.idle": "2022-12-11T18:54:05.999112Z",
     "shell.execute_reply": "2022-12-11T18:54:05.998150Z",
     "shell.execute_reply.started": "2022-12-11T18:54:05.990139Z"
    }
   },
   "outputs": [
    {
     "name": "stderr",
     "output_type": "stream",
     "text": [
      "/opt/conda/lib/python3.7/site-packages/torch/utils/data/dataloader.py:490: UserWarning: This DataLoader will create 4 worker processes in total. Our suggested max number of worker in current system is 2, which is smaller than what this DataLoader is going to create. Please be aware that excessive worker creation might get DataLoader running slow or even freeze, lower the worker number to avoid potential slowness/freeze if necessary.\n",
      "  cpuset_checked))\n"
     ]
    }
   ],
   "source": [
    "batch_size=16\n",
    "train_dataloader = DataLoader(train_dataset, batch_size, shuffle=True, num_workers=4, pin_memory=True)\n",
    "val_dataloader = DataLoader(val_dataset, batch_size, num_workers=4, pin_memory=True)\n",
    "test_dataloader = DataLoader(test_dataset, batch_size, num_workers=4, pin_memory=True)"
   ]
  },
  {
   "cell_type": "code",
   "execution_count": 19,
   "metadata": {
    "execution": {
     "iopub.execute_input": "2022-12-11T18:54:06.001535Z",
     "iopub.status.busy": "2022-12-11T18:54:06.000472Z",
     "iopub.status.idle": "2022-12-11T18:54:06.008443Z",
     "shell.execute_reply": "2022-12-11T18:54:06.006354Z",
     "shell.execute_reply.started": "2022-12-11T18:54:06.001468Z"
    }
   },
   "outputs": [],
   "source": [
    "train_dataloader = DeviceDataLoader(train_dataloader, DEVICE)\n",
    "val_dataloader = DeviceDataLoader(val_dataloader, DEVICE)\n",
    "test_dataloader = DeviceDataLoader(test_dataloader, DEVICE)"
   ]
  },
  {
   "cell_type": "code",
   "execution_count": null,
   "metadata": {},
   "outputs": [],
   "source": []
  },
  {
   "cell_type": "markdown",
   "metadata": {},
   "source": [
    "## Model"
   ]
  },
  {
   "cell_type": "code",
   "execution_count": 20,
   "metadata": {
    "execution": {
     "iopub.execute_input": "2022-12-11T18:54:06.010344Z",
     "iopub.status.busy": "2022-12-11T18:54:06.010005Z",
     "iopub.status.idle": "2022-12-11T18:54:10.357126Z",
     "shell.execute_reply": "2022-12-11T18:54:10.356130Z",
     "shell.execute_reply.started": "2022-12-11T18:54:06.010311Z"
    }
   },
   "outputs": [
    {
     "name": "stderr",
     "output_type": "stream",
     "text": [
      "Downloading: \"https://download.pytorch.org/models/efficientnet_b4_rwightman-7eb33cd5.pth\" to /root/.cache/torch/hub/checkpoints/efficientnet_b4_rwightman-7eb33cd5.pth\n"
     ]
    },
    {
     "data": {
      "application/vnd.jupyter.widget-view+json": {
       "model_id": "8f6e302ffaad47329d0d02ebad3babd8",
       "version_major": 2,
       "version_minor": 0
      },
      "text/plain": [
       "  0%|          | 0.00/74.5M [00:00<?, ?B/s]"
      ]
     },
     "metadata": {},
     "output_type": "display_data"
    }
   ],
   "source": [
    "import torchvision.models as models\n",
    "import torch.nn as nn\n",
    "\n",
    "efficient_net = models.efficientnet_b4(pretrained=True)\n",
    "for params in efficient_net.parameters():\n",
    "    params.requires_grad = True\n",
    "\n",
    "n_features = efficient_net.classifier[1].in_features\n",
    "efficient_net.classifier = nn.Sequential(\n",
    "  nn.Linear(in_features=n_features, out_features=1024),\n",
    "  nn.SiLU(),\n",
    "  nn.Linear(in_features=1024, out_features=512),\n",
    "  nn.SiLU(),\n",
    "  nn.Dropout(p=0.6), \n",
    "    \n",
    "  nn.Linear(in_features=512 , out_features=7),\n",
    "  nn.LogSoftmax(dim=1)  \n",
    ")"
   ]
  },
  {
   "cell_type": "code",
   "execution_count": 21,
   "metadata": {
    "execution": {
     "iopub.execute_input": "2022-12-11T18:54:10.359446Z",
     "iopub.status.busy": "2022-12-11T18:54:10.358428Z",
     "iopub.status.idle": "2022-12-11T18:54:13.290213Z",
     "shell.execute_reply": "2022-12-11T18:54:13.289207Z",
     "shell.execute_reply.started": "2022-12-11T18:54:10.359405Z"
    }
   },
   "outputs": [],
   "source": [
    "model = MyEfficientNet(efficient_net)\n",
    "model = to_device(model, DEVICE)"
   ]
  },
  {
   "cell_type": "markdown",
   "metadata": {},
   "source": [
    "## TRAIN"
   ]
  },
  {
   "cell_type": "code",
   "execution_count": 22,
   "metadata": {
    "execution": {
     "iopub.execute_input": "2022-12-11T18:54:13.292085Z",
     "iopub.status.busy": "2022-12-11T18:54:13.291686Z",
     "iopub.status.idle": "2022-12-11T18:54:13.301910Z",
     "shell.execute_reply": "2022-12-11T18:54:13.300757Z",
     "shell.execute_reply.started": "2022-12-11T18:54:13.292038Z"
    }
   },
   "outputs": [],
   "source": [
    "@torch.no_grad()\n",
    "def evaluate(model, val_loader):\n",
    "    model.eval()\n",
    "    outputs = [model.validation_step(batch) for batch in val_loader]\n",
    "#     print(outputs)\n",
    "    return model.validation_epoch_end(outputs)\n",
    "\n",
    "def fit(epochs, lr, model, train_loader, val_loader, optimizer, scheduler=None):\n",
    "    history = []\n",
    "    for epoch in range(epochs): \n",
    "        model.train()\n",
    "        train_losses = []\n",
    "        for batch in train_loader:\n",
    "            loss = model.training_step(batch)\n",
    "            train_losses.append(loss)\n",
    "            loss.backward()\n",
    "            optimizer.step()\n",
    "            optimizer.zero_grad()\n",
    "\n",
    "        result = evaluate(model, val_loader)\n",
    "        result['train_loss'] = torch.stack(train_losses).mean().item()\n",
    "        model.epoch_end(epoch, result)\n",
    "        history.append(result)\n",
    "        \n",
    "        if scheduler is not None:\n",
    "            scheduler.step()\n",
    "\n",
    "    return history"
   ]
  },
  {
   "cell_type": "code",
   "execution_count": 23,
   "metadata": {
    "execution": {
     "iopub.execute_input": "2022-12-11T18:54:13.304392Z",
     "iopub.status.busy": "2022-12-11T18:54:13.303744Z",
     "iopub.status.idle": "2022-12-11T18:54:28.235497Z",
     "shell.execute_reply": "2022-12-11T18:54:28.234190Z",
     "shell.execute_reply.started": "2022-12-11T18:54:13.304356Z"
    }
   },
   "outputs": [
    {
     "data": {
      "text/plain": [
       "{'val_loss': 1.931098461151123, 'val_acc': 0.1663602888584137}"
      ]
     },
     "execution_count": 23,
     "metadata": {},
     "output_type": "execute_result"
    }
   ],
   "source": [
    "evaluate(model, val_dataloader)"
   ]
  },
  {
   "cell_type": "code",
   "execution_count": 24,
   "metadata": {
    "execution": {
     "iopub.execute_input": "2022-12-11T18:54:28.242519Z",
     "iopub.status.busy": "2022-12-11T18:54:28.240351Z",
     "iopub.status.idle": "2022-12-11T20:25:16.245381Z",
     "shell.execute_reply": "2022-12-11T20:25:16.243803Z",
     "shell.execute_reply.started": "2022-12-11T18:54:28.242479Z"
    }
   },
   "outputs": [
    {
     "name": "stdout",
     "output_type": "stream",
     "text": [
      "Epoch [0], train_loss: 1.5024, val_loss: 1.1884, val_acc: 0.5846\n",
      "Epoch [1], train_loss: 1.1241, val_loss: 0.9471, val_acc: 0.6572\n",
      "Epoch [2], train_loss: 0.9523, val_loss: 0.8637, val_acc: 0.6930\n",
      "Epoch [3], train_loss: 0.8462, val_loss: 0.8147, val_acc: 0.7224\n",
      "Epoch [4], train_loss: 0.7480, val_loss: 0.7981, val_acc: 0.7279\n",
      "Epoch [5], train_loss: 0.6824, val_loss: 0.7643, val_acc: 0.7417\n",
      "Epoch [6], train_loss: 0.6348, val_loss: 0.7866, val_acc: 0.7436\n",
      "Epoch [7], train_loss: 0.5882, val_loss: 0.7796, val_acc: 0.7344\n",
      "Epoch [8], train_loss: 0.5608, val_loss: 0.7780, val_acc: 0.7482\n",
      "Epoch [9], train_loss: 0.5283, val_loss: 0.7776, val_acc: 0.7417\n",
      "Epoch [10], train_loss: 0.5272, val_loss: 0.7710, val_acc: 0.7436\n",
      "Epoch [11], train_loss: 0.5005, val_loss: 0.7938, val_acc: 0.7371\n",
      "Epoch [12], train_loss: 0.4976, val_loss: 0.8077, val_acc: 0.7335\n",
      "Epoch [13], train_loss: 0.4939, val_loss: 0.8232, val_acc: 0.7381\n",
      "Epoch [14], train_loss: 0.4830, val_loss: 0.8248, val_acc: 0.7270\n",
      "Epoch [15], train_loss: 0.4568, val_loss: 0.8178, val_acc: 0.7472\n",
      "Epoch [16], train_loss: 0.4311, val_loss: 0.9089, val_acc: 0.7105\n",
      "Epoch [17], train_loss: 0.4068, val_loss: 0.8752, val_acc: 0.7344\n",
      "Epoch [18], train_loss: 0.3750, val_loss: 0.8742, val_acc: 0.7399\n",
      "Epoch [19], train_loss: 0.3339, val_loss: 0.9028, val_acc: 0.7381\n"
     ]
    }
   ],
   "source": [
    "epochs = 20\n",
    "lr = 0.0001\n",
    "opt_func = torch.optim.Adam\n",
    "optimizer = opt_func(model.parameters(), lr)\n",
    "scheduler = lr_scheduler.CosineAnnealingLR(optimizer, T_max=10, eta_min=0.00001)\n",
    "\n",
    "history = fit(epochs, lr, model, train_dataloader, val_dataloader, optimizer, scheduler)"
   ]
  },
  {
   "cell_type": "code",
   "execution_count": 25,
   "metadata": {
    "execution": {
     "iopub.execute_input": "2022-12-11T20:25:16.334919Z",
     "iopub.status.busy": "2022-12-11T20:25:16.334479Z",
     "iopub.status.idle": "2022-12-11T20:25:16.550004Z",
     "shell.execute_reply": "2022-12-11T20:25:16.548293Z",
     "shell.execute_reply.started": "2022-12-11T20:25:16.334881Z"
    }
   },
   "outputs": [],
   "source": [
    "PATH = \"/kaggle/working/efficient_net_mtcnn.pth\"\n",
    "\n",
    "torch.save(model.state_dict(), PATH)"
   ]
  },
  {
   "cell_type": "code",
   "execution_count": 26,
   "metadata": {
    "execution": {
     "iopub.execute_input": "2022-12-11T20:25:16.558418Z",
     "iopub.status.busy": "2022-12-11T20:25:16.555501Z",
     "iopub.status.idle": "2022-12-11T20:25:16.566717Z",
     "shell.execute_reply": "2022-12-11T20:25:16.565348Z",
     "shell.execute_reply.started": "2022-12-11T20:25:16.558358Z"
    }
   },
   "outputs": [],
   "source": [
    "test_dataset = ImageData(test, TEST_DIR, test_transform)\n",
    "\n",
    "batch_size=16\n",
    "test_dataloader = DataLoader(test_dataset, batch_size, num_workers=4, pin_memory=True)\n",
    "test_dataloader = DeviceDataLoader(test_dataloader, DEVICE)"
   ]
  },
  {
   "cell_type": "code",
   "execution_count": 27,
   "metadata": {
    "execution": {
     "iopub.execute_input": "2022-12-11T20:25:16.574262Z",
     "iopub.status.busy": "2022-12-11T20:25:16.571163Z",
     "iopub.status.idle": "2022-12-11T20:25:36.648984Z",
     "shell.execute_reply": "2022-12-11T20:25:36.647958Z",
     "shell.execute_reply.started": "2022-12-11T20:25:16.574225Z"
    }
   },
   "outputs": [
    {
     "data": {
      "text/plain": [
       "{'val_loss': 0.8627647161483765, 'val_acc': 0.7621233463287354}"
      ]
     },
     "execution_count": 27,
     "metadata": {},
     "output_type": "execute_result"
    }
   ],
   "source": [
    "evaluate(model, test_dataloader)"
   ]
  },
  {
   "cell_type": "code",
   "execution_count": 28,
   "metadata": {
    "execution": {
     "iopub.execute_input": "2022-12-11T20:25:36.650881Z",
     "iopub.status.busy": "2022-12-11T20:25:36.650512Z",
     "iopub.status.idle": "2022-12-11T20:45:52.039237Z",
     "shell.execute_reply": "2022-12-11T20:45:52.037739Z",
     "shell.execute_reply.started": "2022-12-11T20:25:36.650850Z"
    }
   },
   "outputs": [
    {
     "ename": "KeyboardInterrupt",
     "evalue": "",
     "output_type": "error",
     "traceback": [
      "\u001b[0;31m---------------------------------------------------------------------------\u001b[0m",
      "\u001b[0;31mKeyboardInterrupt\u001b[0m                         Traceback (most recent call last)",
      "\u001b[0;32m/tmp/ipykernel_24/2033674682.py\u001b[0m in \u001b[0;36m<module>\u001b[0;34m\u001b[0m\n\u001b[1;32m      1\u001b[0m \u001b[0;32mwhile\u001b[0m \u001b[0;32mTrue\u001b[0m\u001b[0;34m:\u001b[0m\u001b[0;34m\u001b[0m\u001b[0;34m\u001b[0m\u001b[0m\n\u001b[0;32m----> 2\u001b[0;31m     \u001b[0;34m...\u001b[0m\u001b[0;34m\u001b[0m\u001b[0;34m\u001b[0m\u001b[0m\n\u001b[0m",
      "\u001b[0;31mKeyboardInterrupt\u001b[0m: "
     ]
    }
   ],
   "source": [
    "while True:\n",
    "    ..."
   ]
  }
 ],
 "metadata": {
  "kernelspec": {
   "display_name": "Python 3 (ipykernel)",
   "language": "python",
   "name": "python3"
  },
  "language_info": {
   "codemirror_mode": {
    "name": "ipython",
    "version": 3
   },
   "file_extension": ".py",
   "mimetype": "text/x-python",
   "name": "python",
   "nbconvert_exporter": "python",
   "pygments_lexer": "ipython3",
   "version": "3.9.13"
  }
 },
 "nbformat": 4,
 "nbformat_minor": 4
}
